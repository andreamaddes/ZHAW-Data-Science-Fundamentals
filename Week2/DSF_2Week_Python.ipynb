{
 "cells": [
  {
   "cell_type": "markdown",
   "metadata": {},
   "source": [
    "# <div align=\"center\"> DSF 2. Week: Python Basics"
   ]
  },
  {
   "cell_type": "markdown",
   "metadata": {},
   "source": [
    "In this exercise, you will learn some of the basics of Python.\n",
    "\n",
    "If you are already familiar with Python you can skim through the instruction and only focus on the small exercises at each section, and then go to the challenges at the end of the document.\n",
    "\n",
    "**Remember**, you have to run the cell (`Ctrl + Enter`) to see its output."
   ]
  },
  {
   "cell_type": "markdown",
   "metadata": {},
   "source": [
    "## Contents:\n",
    "1. **Hello world!**\n",
    "1. **Variables**\n",
    "1. **Operations**\n",
    "1. **Containers**\n",
    "1. **Conditionals**\n",
    "1. **Loops**\n",
    "1. **Functions**\n",
    "1. **Challenges**"
   ]
  },
  {
   "cell_type": "markdown",
   "metadata": {},
   "source": [
    "## 1. Hello World!\n",
    "Let's start by printing text! We can print almost anything. Below are examples with text and numbers."
   ]
  },
  {
   "cell_type": "code",
   "execution_count": 1,
   "metadata": {},
   "outputs": [
    {
     "name": "stdout",
     "output_type": "stream",
     "text": [
      "Hello World!\n",
      "5\n",
      "5.1\n",
      "True\n",
      "50\n"
     ]
    }
   ],
   "source": [
    "print(\"Hello World!\")\n",
    "print(5)\n",
    "print(5.1)\n",
    "print(True)\n",
    "print(25 * 2)"
   ]
  },
  {
   "cell_type": "markdown",
   "metadata": {},
   "source": [
    "Commas in the print function will insert spaces between the entries. This will be particularly useful when we want to print a variable with unknown value, or print many things of different data types."
   ]
  },
  {
   "cell_type": "code",
   "execution_count": 2,
   "metadata": {},
   "outputs": [
    {
     "name": "stdout",
     "output_type": "stream",
     "text": [
      "Give me some space.\n",
      "The current year is 2021\n",
      "Jake is 5 years old.\n"
     ]
    }
   ],
   "source": [
    "print(\"Give\", \"me\", \"some\", \"space.\")\n",
    "\n",
    "print(\"The current year is\", 2021)\n",
    "\n",
    "x = 5\n",
    "print(\"Jake is\", x, \"years old.\")"
   ]
  },
  {
   "cell_type": "markdown",
   "metadata": {},
   "source": [
    "```\\n``` gives a newline, and ```\\t``` gives a tab."
   ]
  },
  {
   "cell_type": "code",
   "execution_count": null,
   "metadata": {},
   "outputs": [],
   "source": [
    "print(\"This is the first line.\\nThis is the second line, with a \\t tab.\")"
   ]
  },
  {
   "cell_type": "markdown",
   "metadata": {},
   "source": [
    "**Exercise: Using only one print function, print your name, age and favorite ZHAW course on three different lines.**"
   ]
  },
  {
   "cell_type": "code",
   "execution_count": null,
   "metadata": {},
   "outputs": [],
   "source": [
    "# enter your code here!"
   ]
  },
  {
   "cell_type": "markdown",
   "metadata": {},
   "source": [
    "## 2. Variables\n",
    "### Declare and initialize?\n",
    "C++ is **statically typed** while Python is **dynamically typed**. This means that in C++, variable types are defined during compilation, while in Python they are defined during run-time.\n",
    "\n",
    "Because of this, in C++ you need to both *declare* a variable and its type, and then *initialize* it. In Python, you only need to initialize it. While types exist in Python, they are not written out when defining a variable."
   ]
  },
  {
   "cell_type": "code",
   "execution_count": null,
   "metadata": {},
   "outputs": [],
   "source": [
    "# defining an integer variable\n",
    "x = 10\n",
    "# defining a double variable\n",
    "y = 3.14\n",
    "# defining a string\n",
    "word = \"Epoch of Reionisation\"\n",
    "\n",
    "# printing the variables\n",
    "print(x)\n",
    "print(y)\n",
    "print(word)"
   ]
  },
  {
   "cell_type": "markdown",
   "metadata": {},
   "source": [
    "In the above example it's easy to see that x is an integer, y is a double, and word is a string. But if you are unsure you can always check the type of a variable using ```type(someVariable)```."
   ]
  },
  {
   "cell_type": "code",
   "execution_count": null,
   "metadata": {},
   "outputs": [],
   "source": [
    "print( type(x) )\n",
    "print( type(y) )\n",
    "print( type(word) )"
   ]
  },
  {
   "cell_type": "markdown",
   "metadata": {},
   "source": [
    "### Changing type dynamically\n",
    "A blessing and a curse of Python is that you can change the type of a variable on the fly. Be careful that you don't accidentally change the type of variables unless desired!"
   ]
  },
  {
   "cell_type": "code",
   "execution_count": null,
   "metadata": {},
   "outputs": [],
   "source": [
    "# define an integer\n",
    "z = 7\n",
    "# redefine it as a string\n",
    "z = \"Hello\"\n",
    "\n",
    "print(z)"
   ]
  },
  {
   "cell_type": "markdown",
   "metadata": {},
   "source": [
    "### Type conversion\n",
    "If you have the number 64 stored as a string, but want to use it in computation, you can **cast** the string to an integer. To cast a variable to a different type, simply \"wrap\" it inside the type name. You can cast variables that \"make sense\" to cast. For example, you can cast 13 to a string \"13\" but you can't cast \"hello world!\" to a double (what would that even mean?)."
   ]
  },
  {
   "cell_type": "code",
   "execution_count": null,
   "metadata": {
    "scrolled": false
   },
   "outputs": [],
   "source": [
    "x = \"64\"\n",
    "# Need to cast x to an integer otherwise you get an error because you can't add an 'int' with a 'string'\n",
    "print( 1 + int(x) )"
   ]
  },
  {
   "cell_type": "markdown",
   "metadata": {},
   "source": [
    "Here is a list of common casts:\n",
    "* Integer: ```int()```\n",
    "* Double/Float: ```float()```\n",
    "* String: ```str()```\n",
    "\n",
    "**Exercise: Create a variable holding a decimal number and cast it to an integer. What happens with the value?**"
   ]
  },
  {
   "cell_type": "code",
   "execution_count": null,
   "metadata": {},
   "outputs": [],
   "source": [
    "# enter your code here!"
   ]
  },
  {
   "cell_type": "markdown",
   "metadata": {},
   "source": [
    "## 3. Operations\n",
    "### Numerical\n",
    "Operations of numbers work similar to C++."
   ]
  },
  {
   "cell_type": "code",
   "execution_count": null,
   "metadata": {},
   "outputs": [],
   "source": [
    "# addition\n",
    "print(5 + 5)\n",
    "\n",
    "# subtraction\n",
    "print(10 - 20)\n",
    "\n",
    "# multiplication\n",
    "print(3 * 3)\n",
    "\n",
    "# division\n",
    "print(100 / 2)\n",
    "\n",
    "# integer division\n",
    "print(7 // 2)\n",
    "\n",
    "# remainder\n",
    "print(7 % 2)\n",
    "\n",
    "# power\n",
    "print(2**10)"
   ]
  },
  {
   "cell_type": "markdown",
   "metadata": {},
   "source": [
    "### Strings\n",
    "We can use ```+``` for strings to concatenate them."
   ]
  },
  {
   "cell_type": "code",
   "execution_count": 8,
   "metadata": {},
   "outputs": [
    {
     "name": "stdout",
     "output_type": "stream",
     "text": [
      "Återvänd till apa.\n"
     ]
    }
   ],
   "source": [
    "fake_language = \"Återvänd\" + \" till\" + \" apa.\"\n",
    "print(fake_language)"
   ]
  },
  {
   "cell_type": "markdown",
   "metadata": {},
   "source": [
    "### Operations with variables\n",
    "If a variable is an integer or float, then we can do operations like normal with them."
   ]
  },
  {
   "cell_type": "code",
   "execution_count": null,
   "metadata": {},
   "outputs": [],
   "source": [
    "x = 5\n",
    "y = x + 3\n",
    "z = y - x\n",
    "print(\"z =\", z)"
   ]
  },
  {
   "cell_type": "markdown",
   "metadata": {},
   "source": [
    "We can also use increment, decrement, and similar operators to update the value of a variable."
   ]
  },
  {
   "cell_type": "code",
   "execution_count": null,
   "metadata": {},
   "outputs": [],
   "source": [
    "x = 100\n",
    "\n",
    "# same as x = x + 1\n",
    "x += 1\n",
    "\n",
    "# same as x = x -1\n",
    "x -= 1\n",
    "\n",
    "# same as x = x * 5\n",
    "x *= 5\n",
    "\n",
    "# same as x = x / 10\n",
    "x /= 10\n",
    "\n",
    "# same as x // 3\n",
    "x //= 3\n",
    "\n",
    "# same as x = x % 6\n",
    "x %= 6\n",
    "\n",
    "# same as x = x**5\n",
    "x **= 5"
   ]
  },
  {
   "cell_type": "markdown",
   "metadata": {},
   "source": [
    "A very common use of this is to increment a variable by one: ```x += 1```"
   ]
  },
  {
   "cell_type": "markdown",
   "metadata": {},
   "source": [
    "## 4. Containers\n",
    "Variables like integers, floats and strings are good when we only have one value to keep track of. If we have multiple values we can use a container like:\n",
    "\n",
    "1. List\n",
    "1. Dictionary\n",
    "\n",
    "There are many more containers but today we will focus on these two.\n",
    "\n",
    "### Lists\n",
    "Lists are similar to arrays in C++, except that can change in size. Common operations on a list include:\n",
    "\n",
    "1. **Access single element** ```my_list[0]``` will retrieve the first element in the list.\n",
    "1. **Append to the list** ```my_list.append(\"ZHAW\")```\n",
    "1. **Delete items at between index a and b** ```del my_list[a:b]``` if you leave a empty, start from beginning to b, and vice versa.\n",
    "1. **Remove a certain element** ```my_list.remove(\"rabbit\")``` will remove \"rabbit\" if it exists in the list.\n",
    "1. **Sum over all values** ```sum(someList)```\n",
    "1. **Maximum/minimum value in the list** ```max(myList)``` or ```min(myList)```\n",
    "\n",
    "A list is created using ```[]```."
   ]
  },
  {
   "cell_type": "code",
   "execution_count": null,
   "metadata": {},
   "outputs": [],
   "source": [
    "# create a list with some integers\n",
    "years = [1997, 2000, 2002]\n",
    "\n",
    "# elements don't have to share datatype!\n",
    "some_list = [1, \"hello\", 2.7]\n",
    "\n",
    "# you can print lists\n",
    "print(\"Years:\",years)\n",
    "\n",
    "# print second element of a list and last element\n",
    "print(\"Second element of years\", years[1])\n",
    "print(\"Last element of years\", years[-1])\n",
    "\n",
    "# change the 1st element of a list\n",
    "years[0] = 1776\n",
    "\n",
    "# append to the list\n",
    "years.append(2025)\n",
    "\n",
    "# sum over all values\n",
    "sum_of_years = sum(years)\n",
    "\n",
    "# minimum year\n",
    "minimum = min(years)\n",
    "\n",
    "# remove an element\n",
    "years.remove(2000)\n",
    "\n",
    "# delete first element\n",
    "del years[0]\n",
    "\n",
    "# you can also create an empty list and then append stuff to it\n",
    "empty_list = []"
   ]
  },
  {
   "cell_type": "markdown",
   "metadata": {},
   "source": [
    "### Exercise: Create a list with your name (string), age (integer), height in meters (double), and favorite animal (string). After this, change the animal element to \"Penguin\"."
   ]
  },
  {
   "cell_type": "code",
   "execution_count": 7,
   "metadata": {},
   "outputs": [
    {
     "name": "stdout",
     "output_type": "stream",
     "text": [
      "Name:  Andrea\n",
      "Age:  26\n",
      "Height:  175.0\n",
      "Favorite animal:  Penguin\n"
     ]
    }
   ],
   "source": [
    "# enter your code here!\n",
    "exercise_list = [\"Andrea\", 26, 175.0, \"Tiger\"]\n",
    "exercise_list[3] = \"Penguin\"\n",
    "print(\"Name: \",exercise_list[0])\n",
    "print(\"Age: \",exercise_list[1])\n",
    "print(\"Height: \",exercise_list[2])\n",
    "print(\"Favorite animal: \",exercise_list[3])"
   ]
  },
  {
   "cell_type": "markdown",
   "metadata": {},
   "source": [
    "### Dictionaries\n",
    "The basic idea is that the **value** of the elements in the container is tied to a **key**. To access a value in a dictionary, we use the key, not the position like in a list. This is very useful when we want to access a certain value given some other value, like a list of students and their grades. \n",
    "\n",
    "A dictionary is created using ```{}```.\n",
    "\n",
    "The keys and values can be any datatype, and they don't need to be the same datatype."
   ]
  },
  {
   "cell_type": "code",
   "execution_count": null,
   "metadata": {},
   "outputs": [],
   "source": [
    "# A dictionary initiliazed with keys and values: Keys are names, values are grades\n",
    "grades = {\"Axel\": 4.0, \"Albert\": 5.5, \"Michael\": 6.0}\n",
    "print(grades)\n",
    "\n",
    "# access the value via the key\n",
    "print(\"Grade of Axel\", grades[\"Axel\"])\n",
    "\n",
    "# I can change the value as well\n",
    "grades[\"Axel\"] = 6.0\n",
    "print(grades)\n",
    "\n",
    "# I can also add a completely new person to the dictionary\n",
    "grades[\"Kenyan Drake\"] = 5.0\n",
    "print(grades)\n",
    "\n",
    "# Create an empty dictionary\n",
    "empty_dictionary = {}"
   ]
  },
  {
   "cell_type": "markdown",
   "metadata": {},
   "source": [
    "**Exercise: Create a dictionary with keys \"year\", \"month\" and \"day\" and initialize values to today's date. Then, increment the day by 1.**"
   ]
  },
  {
   "cell_type": "code",
   "execution_count": 18,
   "metadata": {},
   "outputs": [
    {
     "name": "stdout",
     "output_type": "stream",
     "text": [
      "The date is 27 September 2023\n"
     ]
    }
   ],
   "source": [
    "# enter your code here!\n",
    "exercise_dict = {}\n",
    "exercise_dict[\"year\"] = 2023\n",
    "exercise_dict[\"month\"] = \"September\"\n",
    "exercise_dict[\"day\"] = 26\n",
    "exercise_dict[\"day\"] += 1\n",
    "\n",
    "print(\"The date is\",exercise_dict[\"day\"],exercise_dict[\"month\"],exercise_dict[\"year\"])"
   ]
  },
  {
   "cell_type": "markdown",
   "metadata": {},
   "source": [
    "## 5. Conditionals\n",
    "### if, elif, else\n",
    "The syntax for if-else statements is very simple. **However**, notice that unlike C++, there are no brackets enclosing the block of code belonging to the if-statement! Instead, there is only indentation. This is true in general and not only for if-statements. **In Python, indentation plays the role of brackets. Make sure your indentations are aligned properly so that code belonging to the same block doesn't end up in the wrong block.** The if-statement ends when at the first line of **unindented** code."
   ]
  },
  {
   "cell_type": "code",
   "execution_count": null,
   "metadata": {
    "scrolled": true
   },
   "outputs": [],
   "source": [
    "x = 5\n",
    "\n",
    "# if\n",
    "if x == 10:\n",
    "    print(\"You will only see this if x was 10\")\n",
    "\n",
    "    \n",
    "# if else\n",
    "if x > 0:\n",
    "    print(\"You will only see this if x is positive\")\n",
    "else:\n",
    "    print(\"You will only see this if x is zero or negative\")\n",
    "    \n",
    "# if, else if, and else\n",
    "if x > 100:\n",
    "    print(\"x is over 100\")\n",
    "elif x == 5:\n",
    "    print(\"x is 5\")\n",
    "else:\n",
    "    print(\"x is neither 5 nor over 100\")"
   ]
  },
  {
   "cell_type": "markdown",
   "metadata": {},
   "source": [
    "### Operations valid in conditionals\n",
    "Below is a table with operations that can be used in conditionals.\n",
    "\n",
    "| **Symbol** | **Operation** | **Example (Value)** |\n",
    "|----:|---------------:|-----------:\n",
    "| == | is equal to | 5 == 5 (True) |\n",
    "| **is** | is equal to (NOTE: single = is assignment, double == is 'equal to') |\n",
    "| < | less than | |\n",
    "| >= | greater or equal than | |\n",
    "| <= | less or equal than | |\n",
    "| **or** | logical OR | True or False (True) |\n",
    "| **and** | logical AND | True and False (False) |\n",
    "| **in** | checks whether something is inside a container | \"james\" in list_of_names (True if James is in the list of names) |"
   ]
  },
  {
   "cell_type": "markdown",
   "metadata": {},
   "source": [
    "Below is an example of ```and``` and ```or```."
   ]
  },
  {
   "cell_type": "code",
   "execution_count": null,
   "metadata": {},
   "outputs": [],
   "source": [
    "this = True\n",
    "that = False\n",
    "\n",
    "print(\"What is the truth value for this/that?\")\n",
    "if this and that:\n",
    "    print(\"both are true\")\n",
    "elif this or that:\n",
    "    print(\"one is true\")\n",
    "else:\n",
    "    print(\"neither are true\")\n",
    "\n",
    "print(\"\\nIs 'apple' in the fruit list?\", \"apple\" in fruits)"
   ]
  },
  {
   "cell_type": "markdown",
   "metadata": {},
   "source": [
    "### Exercise: Define a variable x = 3038 write a conditional that will print whether x is divisible by 7 or not"
   ]
  },
  {
   "cell_type": "code",
   "execution_count": 23,
   "metadata": {},
   "outputs": [
    {
     "name": "stdout",
     "output_type": "stream",
     "text": [
      "X is divisible by 7. Result is  434.0\n"
     ]
    }
   ],
   "source": [
    "# enter your code here\n",
    "x = 3038\n",
    "if x%7 == 0:\n",
    "    print(\"X is divisible by 7. Result is \",3038/7)\n",
    "else:\n",
    "    print(\"X is not divisible by 7.\")"
   ]
  },
  {
   "cell_type": "markdown",
   "metadata": {},
   "source": [
    "## 6. Loops\n",
    "There are two types of loops in Python: ```for``` and ```while```. Use the For loop when you know how many times you want to iterate the loop. Use the While loop when you don't know how many times you want to iterate the loop.\n",
    "\n",
    "In C++ you use brackets {} to indicate the block of code belonging to a loop. In Python we use **indentation**."
   ]
  },
  {
   "cell_type": "markdown",
   "metadata": {},
   "source": [
    "### For loops\n",
    "In Python For loops iterate over elements in a sequence (either a list, a tuple, a dictionary, a set, or a string). Unlike C++, you do not need to define an incrementing indexing variable (such as ```i```)."
   ]
  },
  {
   "cell_type": "code",
   "execution_count": 24,
   "metadata": {},
   "outputs": [
    {
     "name": "stdout",
     "output_type": "stream",
     "text": [
      "apple\n",
      "banana\n",
      "feijoa\n"
     ]
    }
   ],
   "source": [
    "# create a list\n",
    "fruits = [\"apple\", \"banana\", \"feijoa\"]\n",
    "\n",
    "# iterate through the items of the list and print them\n",
    "for f in fruits:\n",
    "    print(f)"
   ]
  },
  {
   "cell_type": "markdown",
   "metadata": {},
   "source": [
    "When iterating through dictionaries, your iterator will be the keys of the dictionary."
   ]
  },
  {
   "cell_type": "code",
   "execution_count": 25,
   "metadata": {},
   "outputs": [
    {
     "name": "stdout",
     "output_type": "stream",
     "text": [
      "Key: Hanna Value: 4\n",
      "Key: Markus Value: 3\n",
      "Key: Amat Value: 5\n"
     ]
    }
   ],
   "source": [
    "# create a dictionary\n",
    "scores = {\"Hanna\": 4, \"Markus\": 3, \"Amat\": 5}\n",
    "\n",
    "# iterate through its keys\n",
    "for key in scores:\n",
    "    print(\"Key:\", key, \"Value:\", scores[key])"
   ]
  },
  {
   "cell_type": "markdown",
   "metadata": {},
   "source": [
    "To iterate through two containers at once, use the ```zip()``` function."
   ]
  },
  {
   "cell_type": "code",
   "execution_count": 26,
   "metadata": {},
   "outputs": [
    {
     "name": "stdout",
     "output_type": "stream",
     "text": [
      "Chicago is in USA\n",
      "London is in England\n",
      "Zuerich is in Switzerland\n"
     ]
    }
   ],
   "source": [
    "cities = [\"Chicago\", \"London\", \"Zuerich\"]\n",
    "countries = [\"USA\", \"England\", \"Switzerland\"]\n",
    "\n",
    "for city, country in zip(cities, countries):\n",
    "    print(city, \"is in\", country)"
   ]
  },
  {
   "cell_type": "markdown",
   "metadata": {},
   "source": [
    "### Exercise: Increment each value in the car brand dictionary by 1 using a for loop"
   ]
  },
  {
   "cell_type": "code",
   "execution_count": 27,
   "metadata": {},
   "outputs": [
    {
     "name": "stdout",
     "output_type": "stream",
     "text": [
      "{'honda': 1, 'volvo': 6, 'saab': 15}\n"
     ]
    }
   ],
   "source": [
    "# the dictionary\n",
    "my_dictionary = {\"honda\": 0, \"volvo\": 5, \"saab\": 14}\n",
    "\n",
    "# enter your code here to increment each car brand by 1\n",
    "for i in my_dictionary:\n",
    "    my_dictionary[i] += 1\n",
    "\n",
    "print(my_dictionary)"
   ]
  },
  {
   "cell_type": "markdown",
   "metadata": {},
   "source": [
    "### Using range() to get indexing variable\n",
    "If we *do* want an incrementing indexing variable we will use the ```range()``` function, which creates a sequence of numbers to iterate through. By default, ```range(x)``` will contain 0 to x-1 in integer steps. We can also add more parameters to define *start, stop, step size*: ```range(start, stop, step)```. Note that *start* is inclusive, while *stop* is not. *Step* can either be positive or negative, but needs to be integer.\n",
    "\n",
    "It's common to combine ```range()``` and ```len()``` to iterate through the indices of a container."
   ]
  },
  {
   "cell_type": "code",
   "execution_count": 28,
   "metadata": {},
   "outputs": [
    {
     "name": "stdout",
     "output_type": "stream",
     "text": [
      "0\n",
      "1\n",
      "2\n",
      "3\n",
      "4\n",
      "5\n",
      "6\n",
      "7\n",
      "8\n",
      "9\n"
     ]
    }
   ],
   "source": [
    "# iterate i from 0 to 9\n",
    "for i in range(10):\n",
    "    print(i)"
   ]
  },
  {
   "cell_type": "code",
   "execution_count": 29,
   "metadata": {},
   "outputs": [
    {
     "name": "stdout",
     "output_type": "stream",
     "text": [
      "apple is at position number 0 in the list.\n",
      "banana is at position number 1 in the list.\n",
      "feijoa is at position number 2 in the list.\n"
     ]
    }
   ],
   "source": [
    "# using an index to iterate through the fruit list\n",
    "for i in range(len(fruits)):\n",
    "    print(fruits[i], \"is at position number\", i, \"in the list.\")"
   ]
  },
  {
   "cell_type": "code",
   "execution_count": 30,
   "metadata": {},
   "outputs": [
    {
     "name": "stdout",
     "output_type": "stream",
     "text": [
      "10\n",
      "15\n",
      "20\n",
      "25\n",
      "30\n",
      "35\n",
      "40\n",
      "45\n"
     ]
    }
   ],
   "source": [
    "# iterate from 10 to 50 in steps of 5\n",
    "for i in range(10,50,5):\n",
    "    print(i)"
   ]
  },
  {
   "cell_type": "markdown",
   "metadata": {},
   "source": [
    "### Exercise: Print all integers from 100 to 80 backwards in steps of 2"
   ]
  },
  {
   "cell_type": "code",
   "execution_count": 42,
   "metadata": {},
   "outputs": [
    {
     "name": "stdout",
     "output_type": "stream",
     "text": [
      "100\n",
      "98\n",
      "96\n",
      "94\n",
      "92\n",
      "90\n",
      "88\n",
      "86\n",
      "84\n",
      "82\n"
     ]
    }
   ],
   "source": [
    "# enter your code here\n",
    "for i in range(100,80,-2):\n",
    "    print(i)"
   ]
  },
  {
   "cell_type": "markdown",
   "metadata": {},
   "source": [
    "### While loops\n",
    "```while(condition)``` loops will keep iterating until the given condition is no longer true. For example, ```while(x < 5)``` will keep executing its block of code until x is NOT less than 5.\n",
    "\n",
    "The condition is checked before each time the block in the loop is run."
   ]
  },
  {
   "cell_type": "code",
   "execution_count": null,
   "metadata": {},
   "outputs": [],
   "source": [
    "x = 0\n",
    "\n",
    "while(x < 5):\n",
    "    print(\"inside the loop, and x is\", x)\n",
    "    # increment x\n",
    "    x += 1\n",
    "print(\"outside the loop, and x is\",x)"
   ]
  },
  {
   "cell_type": "markdown",
   "metadata": {},
   "source": [
    "A simple use of a while loop is to check that user input satisfies certain criteria. A for loop would not be very suitable for this, since we don't know how many tries it would take before the user gets it correctly.\n",
    "\n",
    "Below is an example of entering the correct name for a roman emperor. *Note that if you get it correctly the first try, you will not even enter the loop!*\n",
    "\n",
    "The ```input(\"some message\")``` function will prompt the user for an input in the console, and then return that input as its return value."
   ]
  },
  {
   "cell_type": "code",
   "execution_count": 1,
   "metadata": {},
   "outputs": [
    {
     "name": "stdout",
     "output_type": "stream",
     "text": [
      "That is correct!\n"
     ]
    }
   ],
   "source": [
    "emperor_name = input(\"Please enter the name of the Roman Emperor ruling between 27 BC - AD 14: \")\n",
    "while(emperor_name != \"Augustus Caesar\"):\n",
    "    emperor_name = input(\"Wrong name, please try again: \")\n",
    "print(\"That is correct!\")"
   ]
  },
  {
   "cell_type": "markdown",
   "metadata": {},
   "source": [
    "### Avoiding infinite loops\n",
    "When you write a while loop, you *NEED* to make sure that the loop has an **exit condition**. If there is no chance for the condition to be false, then you will have an infinite loop, and the rest of your code will not run. For example, ```while(True): doSomething()``` would run infinitely since True is never False (duh)."
   ]
  },
  {
   "cell_type": "markdown",
   "metadata": {},
   "source": [
    "### Exercise: Create a variable x = 2 and create a while loop with condition x <= 1024. In the loop, update x by squaring it. Count how many times the loop runs before exiting.\n",
    "\n",
    "**Hint:** Use a variable i to keep track of how many times the loop has executed."
   ]
  },
  {
   "cell_type": "code",
   "execution_count": 5,
   "metadata": {},
   "outputs": [
    {
     "name": "stdout",
     "output_type": "stream",
     "text": [
      "4\n"
     ]
    }
   ],
   "source": [
    "# enter your code here!\n",
    "x = 2\n",
    "i = 0\n",
    "while(x<1024):\n",
    "    x**= 2\n",
    "    i += 1\n",
    "print(i)"
   ]
  },
  {
   "cell_type": "markdown",
   "metadata": {},
   "source": [
    "## 7. Functions"
   ]
  },
  {
   "cell_type": "markdown",
   "metadata": {},
   "source": [
    "In the class saw all the main elements composing a function. Let's see an example of it."
   ]
  },
  {
   "cell_type": "code",
   "execution_count": null,
   "metadata": {},
   "outputs": [],
   "source": [
    "def my_function(param1, param2 = 3):\n",
    "    if param1 == param2: \n",
    "        print(\"The 2 parameters have the same value\")\n",
    "        return None\n",
    "    else: \n",
    "        summe = param1 + param2\n",
    "        print(summe)\n",
    "        return summe"
   ]
  },
  {
   "cell_type": "code",
   "execution_count": null,
   "metadata": {},
   "outputs": [],
   "source": [
    "my_function(1)\n",
    "my_function(1.4, 5.6)\n",
    "my_function(3)\n",
    "my_function(3,3)\n"
   ]
  },
  {
   "cell_type": "markdown",
   "metadata": {},
   "source": [
    "### Exercise: Define your own function which accepts 1 string input (default being \"Annina\"). If the string ends with letter \"a\" or \"e\", function will print \"Dear Mrs\" and the input, otherwise will print \"Dear Mr\" and the input. Return the number of letters in the input. "
   ]
  },
  {
   "cell_type": "code",
   "execution_count": 22,
   "metadata": {},
   "outputs": [
    {
     "name": "stdout",
     "output_type": "stream",
     "text": [
      "Dear Mr Carlo\n"
     ]
    }
   ],
   "source": [
    "# enter your code here!\n",
    "def ex_function(string1 = \"Annina\"):\n",
    "    if (string1[len(string1)-1] == \"a\" or string1[len(string1)-1] == \"e\"):\n",
    "        print(\"Dear Mrs\",string1)\n",
    "    else:\n",
    "        print(\"Dear Mr\",string1)\n",
    "\n",
    "ex_function(\"Carlo\")\n",
    "\n",
    "\n"
   ]
  },
  {
   "cell_type": "markdown",
   "metadata": {},
   "source": [
    "## 8. Challenges\n",
    "\n",
    "#### 1. Print all numbers between 0-99 divisible by 7"
   ]
  },
  {
   "cell_type": "code",
   "execution_count": 23,
   "metadata": {},
   "outputs": [
    {
     "name": "stdout",
     "output_type": "stream",
     "text": [
      "0\n",
      "7\n",
      "14\n",
      "21\n",
      "28\n",
      "35\n",
      "42\n",
      "49\n",
      "56\n",
      "63\n",
      "70\n",
      "77\n",
      "84\n",
      "91\n",
      "98\n"
     ]
    }
   ],
   "source": [
    "# enter your code here\n",
    "for i in range(0,99):\n",
    "    if i%7 == 0:\n",
    "        print(i)"
   ]
  },
  {
   "cell_type": "markdown",
   "metadata": {},
   "source": [
    "#### 2. Roll a dice 1000 times and store the results in a dictionary\n",
    "Use the following code to simulate a dice roll. To ask for user's input, use input() https://www.w3schools.com/python/ref_func_input.asp)"
   ]
  },
  {
   "cell_type": "code",
   "execution_count": 30,
   "metadata": {},
   "outputs": [
    {
     "name": "stdout",
     "output_type": "stream",
     "text": [
      "{1: 4, 2: 4, 3: 3, 4: 4, 5: 3, 6: 2, 7: 6, 8: 1, 9: 1, 10: 5, 11: 3, 12: 4, 13: 5, 14: 6, 15: 4, 16: 5, 17: 6, 18: 5, 19: 4, 20: 2, 21: 2, 22: 4, 23: 5, 24: 3, 25: 2, 26: 2, 27: 3, 28: 5, 29: 3, 30: 5, 31: 3, 32: 4, 33: 5, 34: 4, 35: 5, 36: 6, 37: 4, 38: 2, 39: 1, 40: 3, 41: 2, 42: 4, 43: 2, 44: 6, 45: 6, 46: 3, 47: 2, 48: 6, 49: 5, 50: 4, 51: 4, 52: 3, 53: 1, 54: 2, 55: 1, 56: 6, 57: 5, 58: 3, 59: 5, 60: 3, 61: 1, 62: 4, 63: 2, 64: 4, 65: 2, 66: 5, 67: 3, 68: 6, 69: 1, 70: 5, 71: 2, 72: 4, 73: 1, 74: 4, 75: 3, 76: 6, 77: 3, 78: 1, 79: 4, 80: 4, 81: 4, 82: 1, 83: 6, 84: 4, 85: 5, 86: 2, 87: 2, 88: 3, 89: 1, 90: 3, 91: 5, 92: 5, 93: 1, 94: 2, 95: 4, 96: 4, 97: 4, 98: 3, 99: 1, 100: 6, 101: 5, 102: 4, 103: 6, 104: 4, 105: 2, 106: 6, 107: 6, 108: 5, 109: 2, 110: 4, 111: 3, 112: 3, 113: 3, 114: 5, 115: 2, 116: 3, 117: 3, 118: 5, 119: 1, 120: 4, 121: 1, 122: 6, 123: 2, 124: 3, 125: 3, 126: 2, 127: 5, 128: 6, 129: 6, 130: 3, 131: 1, 132: 2, 133: 4, 134: 3, 135: 3, 136: 1, 137: 4, 138: 3, 139: 6, 140: 1, 141: 2, 142: 2, 143: 6, 144: 1, 145: 3, 146: 6, 147: 4, 148: 3, 149: 6, 150: 4, 151: 5, 152: 5, 153: 6, 154: 2, 155: 4, 156: 1, 157: 1, 158: 4, 159: 1, 160: 3, 161: 4, 162: 6, 163: 4, 164: 2, 165: 2, 166: 3, 167: 1, 168: 6, 169: 4, 170: 2, 171: 3, 172: 5, 173: 5, 174: 3, 175: 2, 176: 5, 177: 5, 178: 4, 179: 5, 180: 6, 181: 5, 182: 4, 183: 5, 184: 3, 185: 1, 186: 2, 187: 4, 188: 4, 189: 5, 190: 1, 191: 6, 192: 3, 193: 6, 194: 6, 195: 3, 196: 3, 197: 1, 198: 3, 199: 5, 200: 4, 201: 3, 202: 3, 203: 1, 204: 1, 205: 4, 206: 4, 207: 3, 208: 6, 209: 5, 210: 6, 211: 2, 212: 3, 213: 2, 214: 6, 215: 1, 216: 4, 217: 4, 218: 4, 219: 4, 220: 6, 221: 3, 222: 3, 223: 4, 224: 1, 225: 1, 226: 3, 227: 4, 228: 3, 229: 5, 230: 1, 231: 2, 232: 3, 233: 2, 234: 2, 235: 2, 236: 5, 237: 2, 238: 4, 239: 1, 240: 5, 241: 2, 242: 4, 243: 6, 244: 5, 245: 2, 246: 2, 247: 2, 248: 6, 249: 2, 250: 1, 251: 2, 252: 1, 253: 3, 254: 4, 255: 6, 256: 6, 257: 5, 258: 4, 259: 2, 260: 6, 261: 1, 262: 1, 263: 5, 264: 1, 265: 5, 266: 4, 267: 6, 268: 1, 269: 5, 270: 5, 271: 2, 272: 1, 273: 5, 274: 5, 275: 6, 276: 3, 277: 5, 278: 5, 279: 2, 280: 2, 281: 2, 282: 5, 283: 2, 284: 3, 285: 4, 286: 5, 287: 2, 288: 3, 289: 2, 290: 4, 291: 2, 292: 6, 293: 6, 294: 1, 295: 6, 296: 1, 297: 6, 298: 1, 299: 4, 300: 3, 301: 1, 302: 2, 303: 5, 304: 6, 305: 1, 306: 6, 307: 5, 308: 3, 309: 6, 310: 5, 311: 5, 312: 3, 313: 4, 314: 4, 315: 2, 316: 4, 317: 5, 318: 4, 319: 6, 320: 3, 321: 5, 322: 5, 323: 3, 324: 6, 325: 6, 326: 1, 327: 6, 328: 2, 329: 2, 330: 6, 331: 3, 332: 4, 333: 5, 334: 6, 335: 6, 336: 2, 337: 4, 338: 6, 339: 1, 340: 6, 341: 3, 342: 6, 343: 6, 344: 1, 345: 6, 346: 4, 347: 2, 348: 3, 349: 3, 350: 2, 351: 2, 352: 3, 353: 1, 354: 3, 355: 1, 356: 6, 357: 1, 358: 3, 359: 5, 360: 5, 361: 4, 362: 1, 363: 4, 364: 2, 365: 5, 366: 6, 367: 4, 368: 2, 369: 6, 370: 2, 371: 1, 372: 1, 373: 6, 374: 4, 375: 2, 376: 1, 377: 5, 378: 6, 379: 3, 380: 5, 381: 1, 382: 5, 383: 3, 384: 5, 385: 1, 386: 2, 387: 5, 388: 1, 389: 3, 390: 2, 391: 1, 392: 3, 393: 4, 394: 3, 395: 5, 396: 2, 397: 3, 398: 4, 399: 4, 400: 1, 401: 4, 402: 5, 403: 5, 404: 6, 405: 3, 406: 3, 407: 3, 408: 1, 409: 4, 410: 2, 411: 3, 412: 6, 413: 1, 414: 4, 415: 6, 416: 4, 417: 1, 418: 6, 419: 6, 420: 2, 421: 2, 422: 4, 423: 6, 424: 2, 425: 6, 426: 4, 427: 1, 428: 4, 429: 6, 430: 1, 431: 2, 432: 1, 433: 4, 434: 2, 435: 2, 436: 5, 437: 5, 438: 4, 439: 3, 440: 5, 441: 3, 442: 3, 443: 3, 444: 4, 445: 4, 446: 1, 447: 4, 448: 2, 449: 3, 450: 3, 451: 6, 452: 4, 453: 6, 454: 4, 455: 1, 456: 5, 457: 2, 458: 2, 459: 5, 460: 4, 461: 5, 462: 4, 463: 3, 464: 6, 465: 1, 466: 4, 467: 1, 468: 1, 469: 4, 470: 2, 471: 4, 472: 6, 473: 5, 474: 2, 475: 3, 476: 5, 477: 4, 478: 1, 479: 6, 480: 3, 481: 5, 482: 6, 483: 3, 484: 3, 485: 2, 486: 6, 487: 3, 488: 5, 489: 2, 490: 2, 491: 1, 492: 1, 493: 4, 494: 6, 495: 2, 496: 2, 497: 3, 498: 2, 499: 1, 500: 2, 501: 2, 502: 2, 503: 5, 504: 1, 505: 3, 506: 5, 507: 4, 508: 6, 509: 1, 510: 3, 511: 2, 512: 5, 513: 6, 514: 4, 515: 3, 516: 2, 517: 3, 518: 1, 519: 5, 520: 5, 521: 4, 522: 5, 523: 1, 524: 2, 525: 1, 526: 1, 527: 6, 528: 6, 529: 3, 530: 2, 531: 4, 532: 5, 533: 3, 534: 1, 535: 6, 536: 1, 537: 1, 538: 3, 539: 2, 540: 4, 541: 2, 542: 2, 543: 3, 544: 4, 545: 6, 546: 3, 547: 1, 548: 1, 549: 3, 550: 5, 551: 1, 552: 1, 553: 2, 554: 3, 555: 3, 556: 1, 557: 3, 558: 1, 559: 5, 560: 5, 561: 1, 562: 6, 563: 5, 564: 6, 565: 4, 566: 5, 567: 4, 568: 1, 569: 4, 570: 3, 571: 6, 572: 3, 573: 6, 574: 3, 575: 4, 576: 4, 577: 3, 578: 6, 579: 6, 580: 5, 581: 2, 582: 4, 583: 1, 584: 4, 585: 2, 586: 1, 587: 2, 588: 4, 589: 6, 590: 6, 591: 3, 592: 5, 593: 4, 594: 6, 595: 4, 596: 4, 597: 5, 598: 4, 599: 4, 600: 5, 601: 1, 602: 4, 603: 2, 604: 6, 605: 1, 606: 2, 607: 4, 608: 6, 609: 1, 610: 1, 611: 6, 612: 1, 613: 2, 614: 3, 615: 5, 616: 2, 617: 3, 618: 1, 619: 4, 620: 5, 621: 4, 622: 4, 623: 5, 624: 2, 625: 3, 626: 5, 627: 3, 628: 1, 629: 4, 630: 1, 631: 4, 632: 2, 633: 2, 634: 2, 635: 3, 636: 4, 637: 6, 638: 1, 639: 2, 640: 2, 641: 5, 642: 3, 643: 3, 644: 6, 645: 3, 646: 4, 647: 2, 648: 2, 649: 3, 650: 2, 651: 1, 652: 6, 653: 1, 654: 6, 655: 3, 656: 1, 657: 1, 658: 3, 659: 3, 660: 3, 661: 2, 662: 6, 663: 5, 664: 1, 665: 6, 666: 6, 667: 3, 668: 3, 669: 5, 670: 3, 671: 3, 672: 3, 673: 1, 674: 3, 675: 3, 676: 6, 677: 2, 678: 5, 679: 4, 680: 1, 681: 6, 682: 1, 683: 4, 684: 6, 685: 1, 686: 4, 687: 6, 688: 2, 689: 4, 690: 4, 691: 3, 692: 1, 693: 4, 694: 5, 695: 6, 696: 4, 697: 3, 698: 6, 699: 2, 700: 2, 701: 3, 702: 5, 703: 5, 704: 2, 705: 2, 706: 6, 707: 4, 708: 6, 709: 5, 710: 6, 711: 4, 712: 4, 713: 6, 714: 6, 715: 4, 716: 4, 717: 5, 718: 4, 719: 6, 720: 4, 721: 4, 722: 4, 723: 6, 724: 5, 725: 6, 726: 6, 727: 6, 728: 6, 729: 3, 730: 4, 731: 6, 732: 5, 733: 6, 734: 5, 735: 4, 736: 4, 737: 1, 738: 1, 739: 4, 740: 1, 741: 4, 742: 6, 743: 5, 744: 4, 745: 1, 746: 5, 747: 2, 748: 6, 749: 3, 750: 1, 751: 2, 752: 5, 753: 3, 754: 1, 755: 2, 756: 5, 757: 3, 758: 2, 759: 6, 760: 5, 761: 4, 762: 1, 763: 2, 764: 2, 765: 2, 766: 6, 767: 1, 768: 2, 769: 2, 770: 6, 771: 3, 772: 4, 773: 6, 774: 2, 775: 3, 776: 5, 777: 5, 778: 3, 779: 5, 780: 2, 781: 6, 782: 4, 783: 6, 784: 5, 785: 5, 786: 5, 787: 1, 788: 6, 789: 3, 790: 4, 791: 5, 792: 3, 793: 2, 794: 2, 795: 1, 796: 1, 797: 3, 798: 2, 799: 6, 800: 4, 801: 4, 802: 6, 803: 6, 804: 6, 805: 3, 806: 5, 807: 4, 808: 2, 809: 1, 810: 2, 811: 2, 812: 1, 813: 6, 814: 4, 815: 4, 816: 3, 817: 1, 818: 1, 819: 5, 820: 2, 821: 1, 822: 4, 823: 1, 824: 2, 825: 3, 826: 3, 827: 6, 828: 1, 829: 3, 830: 1, 831: 6, 832: 3, 833: 2, 834: 1, 835: 5, 836: 5, 837: 3, 838: 2, 839: 4, 840: 6, 841: 4, 842: 3, 843: 5, 844: 2, 845: 6, 846: 1, 847: 6, 848: 4, 849: 1, 850: 2, 851: 1, 852: 2, 853: 3, 854: 6, 855: 1, 856: 4, 857: 3, 858: 3, 859: 5, 860: 2, 861: 2, 862: 2, 863: 4, 864: 5, 865: 6, 866: 1, 867: 6, 868: 2, 869: 2, 870: 6, 871: 2, 872: 1, 873: 4, 874: 2, 875: 6, 876: 5, 877: 5, 878: 2, 879: 3, 880: 5, 881: 2, 882: 1, 883: 4, 884: 3, 885: 1, 886: 1, 887: 3, 888: 3, 889: 6, 890: 2, 891: 6, 892: 5, 893: 6, 894: 1, 895: 5, 896: 3, 897: 2, 898: 5, 899: 1, 900: 4, 901: 2, 902: 5, 903: 6, 904: 2, 905: 1, 906: 6, 907: 4, 908: 2, 909: 1, 910: 4, 911: 1, 912: 1, 913: 1, 914: 1, 915: 5, 916: 6, 917: 6, 918: 4, 919: 2, 920: 6, 921: 5, 922: 3, 923: 4, 924: 1, 925: 2, 926: 6, 927: 5, 928: 1, 929: 1, 930: 6, 931: 3, 932: 6, 933: 1, 934: 3, 935: 3, 936: 4, 937: 6, 938: 4, 939: 3, 940: 1, 941: 4, 942: 4, 943: 2, 944: 6, 945: 4, 946: 6, 947: 4, 948: 3, 949: 2, 950: 1, 951: 5, 952: 5, 953: 6, 954: 4, 955: 4, 956: 2, 957: 6, 958: 3, 959: 6, 960: 3, 961: 1, 962: 6, 963: 4, 964: 5, 965: 3, 966: 6, 967: 4, 968: 1, 969: 3, 970: 3, 971: 1, 972: 4, 973: 3, 974: 4, 975: 6, 976: 1, 977: 6, 978: 1, 979: 3, 980: 1, 981: 1, 982: 4, 983: 6, 984: 2, 985: 4, 986: 5, 987: 4, 988: 6, 989: 6, 990: 5, 991: 5, 992: 5, 993: 3, 994: 3, 995: 4, 996: 6, 997: 4, 998: 2, 999: 5, 1000: 3}\n"
     ]
    }
   ],
   "source": [
    "from random import randint as dice\n",
    "\n",
    "# call dice(1,6) to get a random number between 1 and 6 (inclusive)\n",
    "dice_dict = {}\n",
    "\n",
    "for i in range(1,1001):\n",
    "    x = dice(1,6)\n",
    "    dice_dict[i] = x\n",
    "print(dice_dict)"
   ]
  },
  {
   "cell_type": "markdown",
   "metadata": {},
   "source": [
    "**HINTS**\n",
    "* What should the keys and the values be of the dictionary?\n",
    "* Print the dictionary, does the distribution make sense?\n"
   ]
  },
  {
   "cell_type": "code",
   "execution_count": null,
   "metadata": {},
   "outputs": [],
   "source": [
    "# enter your solution here"
   ]
  },
  {
   "cell_type": "markdown",
   "metadata": {},
   "source": [
    "#### 3. Do you want to play Rock, Paper, Scissors?"
   ]
  },
  {
   "cell_type": "markdown",
   "metadata": {},
   "source": [
    "Make a Rock-Paper-Scissors game against your computer. (Hint: Ask for player choice (using input, https://www.w3schools.com/python/ref_func_input.asp), let the computer choose a random element from the 3 possible plays (https://docs.python.org/3/library/random.html), compare the two choices, print out a message of congratulations to the winner)\n",
    "\n",
    "Remember the rules:\n",
    "\n",
    "Rock beats scissors <br>\n",
    "Scissors beats paper  <br>\n",
    "Paper beats rock <br>"
   ]
  },
  {
   "cell_type": "code",
   "execution_count": 9,
   "metadata": {},
   "outputs": [
    {
     "name": "stdout",
     "output_type": "stream",
     "text": [
      "Select your choice. Write 'rock', 'paper', or 'scissors':\n",
      "Your choice: fsd\n",
      "Computer choice: scissors\n",
      "Invalid input, try again.\n"
     ]
    }
   ],
   "source": [
    "from random import randint as choice #to select a random element from the list \n",
    "\n",
    "#inser your code here \n",
    "print(\"Select your choice. Write 'rock', 'paper', or 'scissors':\")\n",
    "x = input()\n",
    "#selection for the computer\n",
    "choices = [\"rock\",\"paper\",\"scissors\"]\n",
    "PC = choices[choice(0,2)]\n",
    "\n",
    "#print results\n",
    "print(\"Your choice:\",x)\n",
    "print(\"Computer choice:\",PC)\n",
    "\n",
    "#comparison\n",
    "if (x == PC):\n",
    "    print(\"Draw. Try again.\")\n",
    "elif (x == \"rock\" and PC == \"scissor\"):\n",
    "    print(\"Rock beats scissors, you won!\")\n",
    "elif (PC == \"rock\" and x == \"scissor\"):\n",
    "    print(\"Rock beats scissors, you lost!\")\n",
    "elif (x == \"scissors\" and PC == \"paper\"):\n",
    "    print(\"Scissors beat paper, you won!\")\n",
    "elif (PC == \"scissors\" and x == \"paper\"):\n",
    "    print(\"Scissors beat paper, you lost!\")\n",
    "elif (x == \"paper\" and PC == \"rock\"):\n",
    "    print(\"Paper beats rock, you won!\")\n",
    "elif (PC == \"paper\" and x == \"rock\"):\n",
    "    print(\"Paper beats rock, you lost!\")\n",
    "else: print (\"Invalid input, try again.\")"
   ]
  }
 ],
 "metadata": {
  "kernelspec": {
   "display_name": "Python 3",
   "language": "python",
   "name": "python3"
  },
  "language_info": {
   "codemirror_mode": {
    "name": "ipython",
    "version": 3
   },
   "file_extension": ".py",
   "mimetype": "text/x-python",
   "name": "python",
   "nbconvert_exporter": "python",
   "pygments_lexer": "ipython3",
   "version": "3.11.5"
  }
 },
 "nbformat": 4,
 "nbformat_minor": 4
}
